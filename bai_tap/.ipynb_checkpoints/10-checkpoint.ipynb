{
 "cells": [
  {
   "cell_type": "code",
   "execution_count": 1,
   "id": "99708282-f8c3-4ee0-9de3-c75271cfaf2f",
   "metadata": {},
   "outputs": [],
   "source": [
    "from PIL import Image\n",
    "import matplotlib.pyplot as plt"
   ]
  },
  {
   "cell_type": "code",
   "execution_count": 2,
   "id": "a2ae7aeb-a6c9-4ad5-b4d5-fcbf62444c29",
   "metadata": {},
   "outputs": [
    {
     "name": "stdout",
     "output_type": "stream",
     "text": [
      "[(51.02597402597405, 102.09740259740258), (85.65800865800867, 102.09740259740258), (133.2770562770563, 102.96320346320344), (160.54978354978357, 102.09740259740258), (170.93939393939394, 86.94588744588742), (155.7878787878788, 53.61255411255411), (126.35064935064935, 36.29653679653677), (80.03030303030303, 41.49134199134198), (35.87445887445888, 57.94155844155841), (24.186147186147195, 88.24458874458873)]\n"
     ]
    }
   ],
   "source": [
    "dir = 'C:/Users/admin/Desktop/nhung_mon_hoc/thi_giac_may_tinh/anh'\n",
    "image_path = dir + '/anh.png'\n",
    "\n",
    "# doc anh\n",
    "im = Image.open(image_path)\n",
    "\n",
    "# chuyen doi backend\n",
    "plt.switch_backend('tkagg')\n",
    "\n",
    "# hien thi anh\n",
    "plt.imshow(im)\n",
    "plt.title(\"Click on the image to select points\")\n",
    "\n",
    "# su dung ham ginput de chon diem tren anh\n",
    "points = plt.ginput(10)\n",
    "\n",
    "print(points)\n",
    "\n",
    "# hien thi\n",
    "plt.show()"
   ]
  },
  {
   "cell_type": "code",
   "execution_count": 3,
   "id": "c6ed6803-e5c5-4b9e-87d4-e4ff388ae430",
   "metadata": {},
   "outputs": [],
   "source": [
    "# ve lai cac diem da chon bang dau * mau do\n",
    "plt.close()\n",
    "\n",
    "# ve lai\n",
    "plt.imshow(im)\n",
    "for point in points:\n",
    "    x, y = point\n",
    "    plt.plot(x, y, 'r*')\n",
    "\n",
    "plt.show()"
   ]
  },
  {
   "cell_type": "code",
   "execution_count": null,
   "id": "94e28f74-5732-452e-be27-27c098728efb",
   "metadata": {},
   "outputs": [],
   "source": []
  }
 ],
 "metadata": {
  "kernelspec": {
   "display_name": "Python 3 (ipykernel)",
   "language": "python",
   "name": "python3"
  },
  "language_info": {
   "codemirror_mode": {
    "name": "ipython",
    "version": 3
   },
   "file_extension": ".py",
   "mimetype": "text/x-python",
   "name": "python",
   "nbconvert_exporter": "python",
   "pygments_lexer": "ipython3",
   "version": "3.12.4"
  }
 },
 "nbformat": 4,
 "nbformat_minor": 5
}
