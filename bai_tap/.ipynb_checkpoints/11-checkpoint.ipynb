{
 "cells": [
  {
   "cell_type": "code",
   "execution_count": 2,
   "id": "333215e2-9094-4050-a1ca-70066d19282c",
   "metadata": {},
   "outputs": [],
   "source": [
    "#!pip install numpy"
   ]
  },
  {
   "cell_type": "code",
   "execution_count": 3,
   "id": "afc1ebc9-cba1-4d2d-9650-b945fef5a242",
   "metadata": {},
   "outputs": [],
   "source": [
    "import numpy as np\n"
   ]
  },
  {
   "cell_type": "code",
   "execution_count": 4,
   "id": "d6eb422e-5477-4c31-988d-2ce3a5fbd7d8",
   "metadata": {},
   "outputs": [
    {
     "name": "stdout",
     "output_type": "stream",
     "text": [
      "[1 2 3]\n",
      "2\n"
     ]
    }
   ],
   "source": [
    "# tao mang\n",
    "a = np.array([1,2,3])\n",
    "\n",
    "# in mang\n",
    "print(a)\n",
    "\n",
    "# in phan tu thu 1\n",
    "element = a[1]\n",
    "print(element)"
   ]
  },
  {
   "cell_type": "code",
   "execution_count": 5,
   "id": "ea16a0e2-3131-4041-a17f-f0b86aef9882",
   "metadata": {},
   "outputs": [
    {
     "name": "stdout",
     "output_type": "stream",
     "text": [
      "Matrix:  [[1 2 3]\n",
      " [4 5 6]\n",
      " [7 8 9]]\n",
      "6\n"
     ]
    }
   ],
   "source": [
    "# tao mang 2 chieu\n",
    "matrix = np.array([[1, 2, 3], [4, 5, 6], [7, 8, 9]])\n",
    "print(\"Matrix: \", matrix)\n",
    "\n",
    "# in mot phan tu\n",
    "element = matrix[1, 2]\n",
    "print(element)"
   ]
  },
  {
   "cell_type": "code",
   "execution_count": 10,
   "id": "2261dbc4-02f0-459a-8c73-6cfc272c938f",
   "metadata": {},
   "outputs": [
    {
     "name": "stdout",
     "output_type": "stream",
     "text": [
      "[0. 0. 0. 0. 0.]\n",
      "[1. 1. 1. 1. 1.]\n",
      "[1. 1. 1. 1. 1.]\n",
      "[ 0  1  2  3  4  5  6  7  8  9 10 11 12 13 14 15 16 17 18 19 20 21 22 23\n",
      " 24 25 26 27 28 29 30 31 32 33 34 35 36 37 38 39 40 41 42 43 44 45 46 47\n",
      " 48 49 50 51 52 53 54 55 56 57 58 59 60 61 62 63 64 65 66 67 68 69 70 71\n",
      " 72 73 74 75 76 77 78 79 80 81 82 83 84 85 86 87 88 89 90 91 92 93 94 95\n",
      " 96 97 98 99]\n",
      "[ 0.   2.5  5.   7.5 10. ]\n"
     ]
    },
    {
     "data": {
      "text/plain": [
       "array([1, 1, 1, 1, 1], dtype=int64)"
      ]
     },
     "execution_count": 10,
     "metadata": {},
     "output_type": "execute_result"
    }
   ],
   "source": [
    "# Cach tao mang\n",
    "# tao mang toan la so 0\n",
    "a = np.zeros(5)\n",
    "print(a)\n",
    "\n",
    "# tao mang toan la so 1\n",
    "a = np.ones(5)\n",
    "print(a)\n",
    "\n",
    "# tao mang\n",
    "a = np.empty(5)\n",
    "print(a)\n",
    "\n",
    "# tao mang tu 0 den 100\n",
    "a = np.arange(100)\n",
    "print(a)\n",
    "\n",
    "# tao mang gom cac phan tu voi khoang cach deu nhau\n",
    "a = np.linspace(0, 10, num = 5)\n",
    "print(a)\n",
    "\n",
    "# xac dinh kieu du lieu\n",
    "a = np.ones(5, dtype = np.int64)\n",
    "a"
   ]
  },
  {
   "cell_type": "code",
   "execution_count": 11,
   "id": "90c2cb9f-d590-4682-b683-e520bb99088a",
   "metadata": {},
   "outputs": [
    {
     "name": "stdout",
     "output_type": "stream",
     "text": [
      "[3 1 2 4 5]\n",
      "[1 2 3 4 5]\n",
      "[5 4 3 2 1]\n",
      "[  5   4   3   2   1 100]\n",
      "[  5   4   3   1 100]\n"
     ]
    }
   ],
   "source": [
    "# them, xoa, sap xep mang\n",
    "\n",
    "# tao mang ban dau\n",
    "arr = np.array([3, 1, 2, 4, 5])\n",
    "print(arr)\n",
    "\n",
    "# sap xep\n",
    "arr = np.sort(arr)\n",
    "print(arr)\n",
    "\n",
    "# Sắp xếp ngược\n",
    "arr = np.sort(arr)[::-1]\n",
    "print(arr)\n",
    "\n",
    "# them phan tu vao mang\n",
    "arr = np.append(arr, 100)\n",
    "print(arr)\n",
    "\n",
    "# xoa di mot vi tri nao do trong mang\n",
    "arr = np.delete(arr, 3)\n",
    "print(arr)"
   ]
  },
  {
   "cell_type": "code",
   "execution_count": 12,
   "id": "ee7dccf0-0a3e-49b2-addd-bb033ceb4d87",
   "metadata": {},
   "outputs": [
    {
     "name": "stdout",
     "output_type": "stream",
     "text": [
      "[[1 2 3]\n",
      " [4 6 8]\n",
      " [5 7 9]]\n",
      "[[3 1 2]\n",
      " [4 6 5]\n",
      " [9 7 8]]\n"
     ]
    }
   ],
   "source": [
    "# tao mot mang 2 \n",
    "arr = np.array([[3, 1, 2],\n",
    "                [4, 6, 8],\n",
    "                [9, 7, 5]])\n",
    "\n",
    "# tang dan theo hang\n",
    "sap_xep_theo_hang = np.sort(arr, axis=1) \n",
    "print(sap_xep_theo_hang)\n",
    "\n",
    "# tang dan theo cot\n",
    "sap_xep_theo_cot = np.sort(arr, axis=0) \n",
    "print(sap_xep_theo_cot)"
   ]
  },
  {
   "cell_type": "code",
   "execution_count": 13,
   "id": "b5ad3340-1b3c-4900-89b8-c8c4e11ed6f2",
   "metadata": {},
   "outputs": [
    {
     "name": "stdout",
     "output_type": "stream",
     "text": [
      "[[3 2 1]\n",
      " [8 6 4]\n",
      " [9 7 5]]\n",
      "[[9 7 8]\n",
      " [4 6 5]\n",
      " [3 1 2]]\n"
     ]
    }
   ],
   "source": [
    "# tao mot mang 2 \n",
    "arr = np.array([[3, 1, 2],\n",
    "                [4, 6, 8],\n",
    "                [9, 7, 5]])\n",
    "\n",
    "# tang dan theo hang\n",
    "sap_xep_theo_hang = -np.sort(-arr, axis=1) \n",
    "print(sap_xep_theo_hang)\n",
    "\n",
    "# tang dan theo cot\n",
    "sap_xep_theo_cot = -np.sort(-arr, axis=0) \n",
    "print(sap_xep_theo_cot)"
   ]
  },
  {
   "cell_type": "code",
   "execution_count": 14,
   "id": "22aa9973-928a-4014-b784-924bd1335823",
   "metadata": {},
   "outputs": [
    {
     "name": "stdout",
     "output_type": "stream",
     "text": [
      "So chieu: 2\n",
      "Kich thuoc: 6\n",
      "Hinh dang: (2, 3)\n"
     ]
    }
   ],
   "source": [
    "# tao mot mang 2D\n",
    "arr = np.array([[1, 2, 3], [4, 5, 6]])\n",
    "\n",
    "# su dung cac thuoc tinh de lay thong tin ve mang\n",
    "# so chieu (2 chiều)\n",
    "so_chieu = arr.ndim\n",
    "# kich thuoc (tong so phan tu, 6)\n",
    "kich_thuoc = arr.size\n",
    "# hinh dang (so hang x so cot, (2, 3))\n",
    "hinh_dang = arr.shape\n",
    "\n",
    "print(\"So chieu:\", so_chieu)\n",
    "print(\"Kich thuoc:\", kich_thuoc)\n",
    "print(\"Hinh dang:\", hinh_dang)"
   ]
  },
  {
   "cell_type": "code",
   "execution_count": 15,
   "id": "109c49a8-6b08-40d3-87d8-54e9ca157fc5",
   "metadata": {},
   "outputs": [
    {
     "name": "stdout",
     "output_type": "stream",
     "text": [
      "[1. 2. 3. 4. 5.]\n"
     ]
    }
   ],
   "source": [
    "# chuyen doi kieu du lieu\n",
    "arr = np.array([1, 2, 3, 4, 5])\n",
    "arr_float = arr.astype(float)\n",
    "print(arr_float)"
   ]
  },
  {
   "cell_type": "code",
   "execution_count": 16,
   "id": "ba8bb4d1-2001-48c0-babe-3fbe89e8168e",
   "metadata": {},
   "outputs": [
    {
     "name": "stdout",
     "output_type": "stream",
     "text": [
      "[[1 2 3]\n",
      " [4 5 6]]\n",
      "[[1 2]\n",
      " [3 4]\n",
      " [5 6]]\n"
     ]
    }
   ],
   "source": [
    "# thay doi hinh dang cua mang\n",
    "arr = np.array([1, 2, 3, 4, 5, 6])\n",
    "reshaped_arr = arr.reshape(2,3)\n",
    "print(reshaped_arr)\n",
    "reshaped_arr = arr.reshape(3,2)\n",
    "print(reshaped_arr)"
   ]
  },
  {
   "cell_type": "code",
   "execution_count": 17,
   "id": "74c26e9c-227f-4213-b232-701d1341f893",
   "metadata": {},
   "outputs": [
    {
     "name": "stdout",
     "output_type": "stream",
     "text": [
      "[1 2 3 4 5 6]\n"
     ]
    }
   ],
   "source": [
    "# chuyen thanh mang 1 chieu\n",
    "reshaped_arr = reshaped_arr.flatten() \n",
    "print(reshaped_arr)"
   ]
  },
  {
   "cell_type": "code",
   "execution_count": 18,
   "id": "a2a0ab01-1836-4869-8ffb-e912cd45a31c",
   "metadata": {},
   "outputs": [
    {
     "name": "stdout",
     "output_type": "stream",
     "text": [
      "[2 3 4]\n",
      "[1 2 3 4]\n",
      "[4 5]\n"
     ]
    }
   ],
   "source": [
    "# cat lat mang\n",
    "arr = np.array([1, 2, 3, 4, 5])\n",
    "\n",
    "# cat tu phan tu 1 den 4\n",
    "sub_arr = arr[1:4]  \n",
    "print(sub_arr)\n",
    "\n",
    "sub_arr = arr[:-1] \n",
    "print(sub_arr)\n",
    "\n",
    "sub_arr = arr[-2:] \n",
    "print(sub_arr)"
   ]
  },
  {
   "cell_type": "code",
   "execution_count": 19,
   "id": "60bdff60-6c58-4432-94c2-0d9db365f3f7",
   "metadata": {},
   "outputs": [
    {
     "name": "stdout",
     "output_type": "stream",
     "text": [
      "[[1 2 3]\n",
      " [4 5 6]]\n",
      "[[1 4]\n",
      " [2 5]\n",
      " [3 6]]\n"
     ]
    }
   ],
   "source": [
    "# chuyen vi mang\n",
    "arr = np.array([[1, 2, 3], [4, 5, 6]])\n",
    "print(arr)\n",
    "\n",
    "# de chuyen vi mang, chung ta co the su dung .T hoac ham numpy.tránpose().\n",
    "transposed_arr = arr.T\n",
    "print(transposed_arr)"
   ]
  },
  {
   "cell_type": "code",
   "execution_count": 20,
   "id": "86a7e95b-551b-4429-8f4b-03ff95e257e2",
   "metadata": {},
   "outputs": [
    {
     "name": "stdout",
     "output_type": "stream",
     "text": [
      "[1 2 3 4 5 6]\n"
     ]
    }
   ],
   "source": [
    "# noi mang\n",
    "arr1 = np.array([1, 2, 3])\n",
    "arr2 = np.array([4, 5, 6])\n",
    "arr = np.concatenate((arr1, arr2))\n",
    "print(arr)"
   ]
  },
  {
   "cell_type": "code",
   "execution_count": 21,
   "id": "99e603e4-9fc2-4894-9d6b-d6d94d360b9f",
   "metadata": {},
   "outputs": [
    {
     "name": "stdout",
     "output_type": "stream",
     "text": [
      "Tong cua mang arr: 15\n",
      "Gia tri trung binh cua mang arr: 3.0\n",
      "Gia tri lon nhat trong mang arr: 5\n",
      "Gia tri nho nhat trong mang arr: 1\n",
      "Do lech chuan cua mang arr: 1.4142135623730951\n",
      "Phuong sai cua mang arr: 2.0\n",
      "Tong tich chap cua arr1 va arr2: 32\n"
     ]
    }
   ],
   "source": [
    "# ham tinh tong (sum)\n",
    "arr = np.array([1, 2, 3, 4, 5])\n",
    "total = np.sum(arr)\n",
    "print(\"Tong cua mang arr:\", total)\n",
    "\n",
    "# ham tinh trung binh (mean)\n",
    "average = np.mean(arr)\n",
    "print(\"Gia tri trung binh cua mang arr:\", average)\n",
    "\n",
    "# ham tinh gia tri lon nhat va nho nhat (max và min)\n",
    "max_value = np.max(arr)\n",
    "min_value = np.min(arr)\n",
    "print(\"Gia tri lon nhat trong mang arr:\", max_value)\n",
    "print(\"Gia tri nho nhat trong mang arr:\", min_value)\n",
    "\n",
    "# ham tinh do lech chuan (standard deviation)\n",
    "std_deviation = np.std(arr)\n",
    "print(\"Do lech chuan cua mang arr:\", std_deviation)\n",
    "\n",
    "# ham tinh phuong sai (variance)\n",
    "variance = np.var(arr)\n",
    "print(\"Phuong sai cua mang arr:\", variance)\n",
    "\n",
    "# ham tinh tong tich chap (dot product)\n",
    "arr1 = np.array([1, 2, 3])\n",
    "arr2 = np.array([4, 5, 6])\n",
    "dot_product = np.dot(arr1, arr2)\n",
    "print(\"Tong tich chap cua arr1 va arr2:\", dot_product)"
   ]
  },
  {
   "cell_type": "code",
   "execution_count": null,
   "id": "83510e1d-d6e1-48af-9b18-b8970f24401b",
   "metadata": {},
   "outputs": [],
   "source": []
  }
 ],
 "metadata": {
  "kernelspec": {
   "display_name": "Python 3 (ipykernel)",
   "language": "python",
   "name": "python3"
  },
  "language_info": {
   "codemirror_mode": {
    "name": "ipython",
    "version": 3
   },
   "file_extension": ".py",
   "mimetype": "text/x-python",
   "name": "python",
   "nbconvert_exporter": "python",
   "pygments_lexer": "ipython3",
   "version": "3.12.4"
  }
 },
 "nbformat": 4,
 "nbformat_minor": 5
}
